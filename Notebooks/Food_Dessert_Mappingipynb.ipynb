{
  "nbformat": 4,
  "nbformat_minor": 0,
  "metadata": {
    "colab": {
      "name": "Food_Dessert_Mappingipynb",
      "provenance": [],
      "collapsed_sections": []
    },
    "kernelspec": {
      "name": "python3",
      "display_name": "Python 3"
    },
    "language_info": {
      "name": "python"
    }
  },
  "cells": [
    {
      "cell_type": "markdown",
      "source": [
        "# Libraries and modules"
      ],
      "metadata": {
        "id": "rY5PFEXfgd8n"
      }
    },
    {
      "cell_type": "code",
      "execution_count": 50,
      "metadata": {
        "id": "wXbv-qyzgdPn",
        "colab": {
          "base_uri": "https://localhost:8080/"
        },
        "outputId": "572e77d8-f47b-440f-b25b-7cb0d10b7f3c"
      },
      "outputs": [
        {
          "output_type": "stream",
          "name": "stdout",
          "text": [
            "Requirement already satisfied: geopandas in /usr/local/lib/python3.7/dist-packages (0.10.2)\n",
            "Requirement already satisfied: pyproj>=2.2.0 in /usr/local/lib/python3.7/dist-packages (from geopandas) (3.2.1)\n",
            "Requirement already satisfied: fiona>=1.8 in /usr/local/lib/python3.7/dist-packages (from geopandas) (1.8.21)\n",
            "Requirement already satisfied: shapely>=1.6 in /usr/local/lib/python3.7/dist-packages (from geopandas) (1.8.1.post1)\n",
            "Requirement already satisfied: pandas>=0.25.0 in /usr/local/lib/python3.7/dist-packages (from geopandas) (1.3.5)\n",
            "Requirement already satisfied: six>=1.7 in /usr/local/lib/python3.7/dist-packages (from fiona>=1.8->geopandas) (1.15.0)\n",
            "Requirement already satisfied: click-plugins>=1.0 in /usr/local/lib/python3.7/dist-packages (from fiona>=1.8->geopandas) (1.1.1)\n",
            "Requirement already satisfied: munch in /usr/local/lib/python3.7/dist-packages (from fiona>=1.8->geopandas) (2.5.0)\n",
            "Requirement already satisfied: certifi in /usr/local/lib/python3.7/dist-packages (from fiona>=1.8->geopandas) (2021.10.8)\n",
            "Requirement already satisfied: setuptools in /usr/local/lib/python3.7/dist-packages (from fiona>=1.8->geopandas) (57.4.0)\n",
            "Requirement already satisfied: attrs>=17 in /usr/local/lib/python3.7/dist-packages (from fiona>=1.8->geopandas) (21.4.0)\n",
            "Requirement already satisfied: cligj>=0.5 in /usr/local/lib/python3.7/dist-packages (from fiona>=1.8->geopandas) (0.7.2)\n",
            "Requirement already satisfied: click>=4.0 in /usr/local/lib/python3.7/dist-packages (from fiona>=1.8->geopandas) (7.1.2)\n",
            "Requirement already satisfied: numpy>=1.17.3 in /usr/local/lib/python3.7/dist-packages (from pandas>=0.25.0->geopandas) (1.21.6)\n",
            "Requirement already satisfied: pytz>=2017.3 in /usr/local/lib/python3.7/dist-packages (from pandas>=0.25.0->geopandas) (2022.1)\n",
            "Requirement already satisfied: python-dateutil>=2.7.3 in /usr/local/lib/python3.7/dist-packages (from pandas>=0.25.0->geopandas) (2.8.2)\n"
          ]
        }
      ],
      "source": [
        "!pip install geopandas\n",
        "\n",
        "import re\n",
        "import numpy as np\n",
        "import pandas as pd\n",
        "import matplotlib.pyplot as plt\n",
        "%matplotlib inline\n",
        "import descartes\n",
        "import geopandas as gpd\n",
        "from geopandas import GeoDataFrame\n",
        "from shapely.geometry import Point, Polygon\n",
        "from functools import partial\n",
        "import pyproj\n",
        "from pyproj import Transformer\n",
        "from pyproj import CRS\n",
        "from shapely.ops import transform\n",
        "\n",
        "#pd.set_option('display.max_columns', 500)\n",
        "#pd.set_option('display.max_rows', 500)"
      ]
    },
    {
      "cell_type": "markdown",
      "source": [
        "# Functions"
      ],
      "metadata": {
        "id": "7X5GpkkmgedB"
      }
    },
    {
      "cell_type": "code",
      "source": [
        "def gen_points_inside_polygon(polygon, miles=1):\n",
        "  '''\n",
        "  Takes polygon and miles, creates grid around edges and iterates in .25 mile \n",
        "  steps around grid, returning all points within\n",
        "  '''\n",
        "\n",
        "  lat_increment = miles * 0.0145\n",
        "  lon_increment = miles * 0.02 #this is tied to latitude\n",
        "  \n",
        "  #four corners of a grid\n",
        "  min_lat, min_lon, max_lat, max_lon, = polygon.bounds\n",
        "\n",
        "  # lists the get appended as grid gets iterated over\n",
        "  lons, lats = [],[]\n",
        "  \n",
        "  lat = min_lat + (lat_increment /2)\n",
        "  while lat < max_lat:\n",
        "    lats.append(lat)\n",
        "    lat+=lat_increment\n",
        "  lats.append(max_lat)\n",
        "\n",
        "  #repeat for long; dif converstion\n",
        "  lon = min_lon + (lon_increment / 2)\n",
        "  while lon < max_lon:\n",
        "    lons.append(lon)\n",
        "    lon+= lon_increment\n",
        "  lons.append(max_lon)\n",
        "\n",
        "  #iterate through all lat/lon points, instantiate shapely point objs, append to list\n",
        "  points = []\n",
        "  for i in range(len(lons)):\n",
        "    for j in range(len(lats)):\n",
        "      points.append(Point(lons[i], lats[j]))\n",
        "      #points.append(Point(lats[j], lons[i]))\n",
        "\n",
        "  points_inside_polygon = []\n",
        "  for i in range(len(points)):\n",
        "    if polygon.contains(points[i]):\n",
        "      points_inside_polygon.append(points[i])\n",
        "\n",
        "  # if no points, add center point\n",
        "  if len(points_inside_polygon) == 0:\n",
        "    points_inside_polygon.append(polygon.centroid)\n",
        "\n",
        "  return points_inside_polygon\n",
        "\n",
        "# Make circle\n",
        "def make_circle(lat, lon, miles=1): #.25-mile in urban areas and 10-mile in rural\n",
        "  km = miles * 1.60934\n",
        "  proj_wgs84 = pyproj.CRS(\"WGS84\")\n",
        "  # Azimuthal equidistant projection\n",
        "  aeqd_proj = '+proj=aeqd +lat_0={lat} +lon_0={lon} +x_0=0 +y_0=0'\n",
        "  project = partial(\n",
        "    pyproj.transformer.transform,\n",
        "    pyproj.Proj(aeqd_proj.format(lat=lat, lon=lon)),\n",
        "    proj_wgs84)\n",
        "  buff = Point(0, 0).buffer(km * 1000)\n",
        "  return Polygon(transform(project, buff).exterior.coords[:])\n",
        "\n",
        "def get_num_groche_in_circle(df, circle):\n",
        "  min_lat, min_lon, max_lat, max_lon = circle.bounds\n",
        "  df = df[(df.LATITUDE >= min_lat)&(df.LATITUDE <= max_lat)&(df.LONGITUDE>=min_lon)&(df.LONGITUDE<=max_lon)]\n",
        "  num_groche = 0\n",
        "\n",
        "  for i in range(len(df)):\n",
        "    if circle.contains(df.iloc[i]['LOCATION']):\n",
        "      num_groche+=1\n",
        "\n",
        "  return num_groche\n",
        "\n",
        "def desert_search(zip_df, markets_df):\n",
        "  return_dict = {}\n",
        "\n",
        "  for i in range(len(zip_df)):\n",
        "    zip_code = zip_df.iloc[i]['zip_code']\n",
        "    #zip_code = zip_df.loc[i,'zip_code']\n",
        "    nearby_groche_count = []\n",
        "    desert_list = []\n",
        "\n",
        "    # now iterate over test_points per zip\n",
        "    for point in zip_df.iloc[i]['test_points']:\n",
        "      #lat, lon = point.y, point.x\n",
        "      lon, lat = point.x, point.y\n",
        "      #make circle around points\n",
        "      circle = make_circle(lat,lon)\n",
        "      #get num of groche within circle and add to count for zip\n",
        "      num_nearby = get_num_groche_in_circle(markets_df, circle)\n",
        "      nearby_groche_count.append(num_nearby)\n",
        "      #if there are none, add point to list of food deserts\n",
        "      if num_nearby==0:\n",
        "        desert_list.append(point)\n",
        "    \n",
        "    num_food_deserts = len(desert_list)\n",
        "\n",
        "    if zip_code in return_dict:\n",
        "      return_dict[zip_code]['nearby_groche_count'] += nearby_groche_count\n",
        "      return_dict[zip_code]['desert_list'] += desert_list\n",
        "      return_dict[zip_code]['num_food_deserts'] += num_food_deserts\n",
        "    else:\n",
        "      return_dict[zip_code]={'nearby_groche_count': nearby_groche_count,\n",
        "                             'desert_list': desert_list,\n",
        "                             'num_food_deserts': num_food_deserts}\n",
        "\n",
        "  #return master dict\n",
        "  return return_dict\n",
        "\n",
        "def unpack_desert_search(desert_search_results):\n",
        "  #initialiaze\n",
        "  unpacked = {'zip_code': [], 'nearby_groche_count': [], 'desert_list': [], 'num_food_deserts': []}\n",
        "\n",
        "  #get zip code\n",
        "  for k, v in desert_search_results.items():\n",
        "    unpacked['zip_code'].append(k)\n",
        "    #now get other key va pairs\n",
        "    for key, val in v.items():\n",
        "      unpacked[key].append(val)\n",
        "  unpacked_df = pd.DataFrame(unpacked)\n",
        "\n",
        "  desert_list=[]\n",
        "  for i in range(len(unpacked_df)):\n",
        "    deserts = unpacked_df.iloc[i].desert_list\n",
        "    if len(deserts)>0:\n",
        "      for desert in deserts:\n",
        "        desert_list.append(desert)\n",
        "\n",
        "  unpacked_df = unpacked_df.drop(columns=['desert_list'])\n",
        "\n",
        "  def get_avg(num_list):\n",
        "    return round(sum(num_list)/len(num_list),1)\n",
        "\n",
        "  unpacked_df.nearby_groche_count = unpacked_df.nearby_groche_count.apply(get_avg)\n",
        "  unpacked_df = unpacked_df.rename(columns={'nearby_groche_count':'avg_nearby_groche_counts'})\n",
        "\n",
        "  return unpacked_df, desert_list"
      ],
      "metadata": {
        "id": "Ep7wRjmog6wZ"
      },
      "execution_count": 51,
      "outputs": []
    },
    {
      "cell_type": "markdown",
      "source": [
        "# Data Load"
      ],
      "metadata": {
        "id": "kbBKcU7ugewM"
      }
    },
    {
      "cell_type": "code",
      "source": [
        "\n",
        "\n",
        "#polygon related\n",
        "polygon_file = '/content/drive/MyDrive/DATA 606 Capstone Project/Datasets and Information/CSVs/zip_shape/tl_2021_us_zcta520.shp'\n",
        "polygons = gpd.read_file(polygon_file)\n",
        "zip_df = polygons[['ZCTA5CE20', 'geometry']].rename(columns={'ZCTA5CE20':'zip_code'})\n",
        "zip_df['zip_code'] = zip_df['zip_code'].astype(int)\n",
        "\n",
        "#zip_df.to_file('/content/drive/MyDrive/DATA 606 Capstone Project/Datasets and Information/CSVs/cleaned_zip_geodata_shapefile.shp',driver='ESRI Shapefile')\n",
        "\n"
      ],
      "metadata": {
        "id": "POsr8OFZu8Ii"
      },
      "execution_count": 52,
      "outputs": []
    },
    {
      "cell_type": "code",
      "source": [
        "df = pd.read_csv('/content/drive/MyDrive/DATA 606 Capstone Project/Datasets and Information/CSVs/SNAP_Data.csv')\n",
        "\n",
        "metros = ['Atlanta','Baltimore','DC','Hartford','Minneapolis','Phoenix']\n",
        "years = \"199|198|197\"\n",
        "exclude_string = \"Unknown|Delivery Route|Convenience Store|Combination Grocery/Other|Bakery Specialty|Meat/Poultry Specialty|Fruits/Veg Specialty|Seafood Specialty|Super Store|Wholesaler|Military Commissary\"\n",
        "\n",
        "df = df[~df['Store Type'].str.contains(exclude_string, flags=re.IGNORECASE, regex=True) == True].reset_index(drop=True)\n",
        "df = df[~df['End Date'].str.contains(years, flags=re.IGNORECASE, regex=True) == True].reset_index(drop=True)\n",
        "df = df.rename(columns={'Zip Code':'zip_code', 'Longitude':'LONGITUDE', 'Latitude':'LATITUDE'})\n",
        "df['LOCATION']='one'"
      ],
      "metadata": {
        "id": "SdI0Oa6t7c5G"
      },
      "execution_count": 53,
      "outputs": []
    },
    {
      "cell_type": "code",
      "source": [
        "# for 1 mile graph only\n",
        "full_desert = pd.DataFrame(columns=['zip_code', 'geometry', 'avg_nearby_groche_counts', 'num_food_deserts'])\n",
        "for metro in metros:\n",
        "  metro_zip = pd.read_csv('/content/drive/MyDrive/DATA 606 Capstone Project/Datasets and Information/CSVs/'+metro+'/'+metro+'_county_zips.csv')\n",
        "  markets = df[df['Metro']==metro].reset_index(drop=True)\n",
        "  print(len(metro))\n",
        "\n",
        "\n",
        "  for i in range(len(markets)):\n",
        "    lat = markets.at[i, 'LATITUDE']\n",
        "    lon = markets.at[i, 'LONGITUDE']\n",
        "    markets.at[i, 'LOCATION'] = Point(lat, lon)\n",
        "\n",
        "  metro_zip_list = metro_zip['zip'].to_list()\n",
        "  metro_zip_df = zip_df[zip_df['zip_code'].isin(metro_zip_list)]\n",
        "\n",
        "  metro_zip_df['test_points'] = metro_zip_df.geometry.apply(gen_points_inside_polygon)\n",
        "\n",
        "  metro_zip_df['num_points'] = metro_zip_df['test_points'].apply(len)\n",
        "\n",
        "  metro_search = desert_search(metro_zip_df, markets)\n",
        "  zip_code_groche_df, all_deserts = unpack_desert_search(metro_search)\n",
        "\n",
        "  #plotting tasks\n",
        "  polygons_df = metro_zip_df[['zip_code', 'geometry']]\n",
        "  #convert list from grid search to df\n",
        "  geo = {'geometry': all_deserts}\n",
        "  deserts_gdf = gpd.GeoDataFrame(geo)\n",
        "\n",
        "  groche_density_df = polygons_df.merge(zip_code_groche_df, left_on='zip_code',right_on='zip_code',how='outer')\n",
        "  full_desert = full_desert.append(groche_density_df)\n",
        "#full_desert.to_csv('/content/drive/MyDrive/DATA 606 Capstone Project/Datasets and Information/CSVs/Groche Density/all_metro_mile_groche_density.csv')"
      ],
      "metadata": {
        "id": "JntK_5knobyn",
        "colab": {
          "base_uri": "https://localhost:8080/"
        },
        "outputId": "e6d0520c-c82e-4d85-d3b6-301c7f7d9c75"
      },
      "execution_count": 54,
      "outputs": [
        {
          "output_type": "stream",
          "name": "stdout",
          "text": [
            "7\n"
          ]
        },
        {
          "output_type": "stream",
          "name": "stderr",
          "text": [
            "/usr/local/lib/python3.7/dist-packages/geopandas/geodataframe.py:1351: SettingWithCopyWarning: \n",
            "A value is trying to be set on a copy of a slice from a DataFrame.\n",
            "Try using .loc[row_indexer,col_indexer] = value instead\n",
            "\n",
            "See the caveats in the documentation: https://pandas.pydata.org/pandas-docs/stable/user_guide/indexing.html#returning-a-view-versus-a-copy\n",
            "  super().__setitem__(key, value)\n"
          ]
        },
        {
          "output_type": "stream",
          "name": "stdout",
          "text": [
            "9\n"
          ]
        },
        {
          "output_type": "stream",
          "name": "stderr",
          "text": [
            "/usr/local/lib/python3.7/dist-packages/geopandas/geodataframe.py:1351: SettingWithCopyWarning: \n",
            "A value is trying to be set on a copy of a slice from a DataFrame.\n",
            "Try using .loc[row_indexer,col_indexer] = value instead\n",
            "\n",
            "See the caveats in the documentation: https://pandas.pydata.org/pandas-docs/stable/user_guide/indexing.html#returning-a-view-versus-a-copy\n",
            "  super().__setitem__(key, value)\n"
          ]
        },
        {
          "output_type": "stream",
          "name": "stdout",
          "text": [
            "2\n"
          ]
        },
        {
          "output_type": "stream",
          "name": "stderr",
          "text": [
            "/usr/local/lib/python3.7/dist-packages/geopandas/geodataframe.py:1351: SettingWithCopyWarning: \n",
            "A value is trying to be set on a copy of a slice from a DataFrame.\n",
            "Try using .loc[row_indexer,col_indexer] = value instead\n",
            "\n",
            "See the caveats in the documentation: https://pandas.pydata.org/pandas-docs/stable/user_guide/indexing.html#returning-a-view-versus-a-copy\n",
            "  super().__setitem__(key, value)\n"
          ]
        },
        {
          "output_type": "stream",
          "name": "stdout",
          "text": [
            "8\n"
          ]
        },
        {
          "output_type": "stream",
          "name": "stderr",
          "text": [
            "/usr/local/lib/python3.7/dist-packages/geopandas/geodataframe.py:1351: SettingWithCopyWarning: \n",
            "A value is trying to be set on a copy of a slice from a DataFrame.\n",
            "Try using .loc[row_indexer,col_indexer] = value instead\n",
            "\n",
            "See the caveats in the documentation: https://pandas.pydata.org/pandas-docs/stable/user_guide/indexing.html#returning-a-view-versus-a-copy\n",
            "  super().__setitem__(key, value)\n"
          ]
        },
        {
          "output_type": "stream",
          "name": "stdout",
          "text": [
            "11\n"
          ]
        },
        {
          "output_type": "stream",
          "name": "stderr",
          "text": [
            "/usr/local/lib/python3.7/dist-packages/geopandas/geodataframe.py:1351: SettingWithCopyWarning: \n",
            "A value is trying to be set on a copy of a slice from a DataFrame.\n",
            "Try using .loc[row_indexer,col_indexer] = value instead\n",
            "\n",
            "See the caveats in the documentation: https://pandas.pydata.org/pandas-docs/stable/user_guide/indexing.html#returning-a-view-versus-a-copy\n",
            "  super().__setitem__(key, value)\n"
          ]
        },
        {
          "output_type": "stream",
          "name": "stdout",
          "text": [
            "7\n"
          ]
        },
        {
          "output_type": "stream",
          "name": "stderr",
          "text": [
            "/usr/local/lib/python3.7/dist-packages/geopandas/geodataframe.py:1351: SettingWithCopyWarning: \n",
            "A value is trying to be set on a copy of a slice from a DataFrame.\n",
            "Try using .loc[row_indexer,col_indexer] = value instead\n",
            "\n",
            "See the caveats in the documentation: https://pandas.pydata.org/pandas-docs/stable/user_guide/indexing.html#returning-a-view-versus-a-copy\n",
            "  super().__setitem__(key, value)\n"
          ]
        }
      ]
    },
    {
      "cell_type": "code",
      "source": [
        "groche_density_df.columns"
      ],
      "metadata": {
        "colab": {
          "base_uri": "https://localhost:8080/"
        },
        "id": "TE-pWpcSr71x",
        "outputId": "d573a3d6-64e2-4f74-e90f-d06538d1dbc8"
      },
      "execution_count": 55,
      "outputs": [
        {
          "output_type": "execute_result",
          "data": {
            "text/plain": [
              "Index(['zip_code', 'geometry', 'avg_nearby_groche_counts', 'num_food_deserts'], dtype='object')"
            ]
          },
          "metadata": {},
          "execution_count": 55
        }
      ]
    },
    {
      "cell_type": "code",
      "source": [
        "full_desert"
      ],
      "metadata": {
        "colab": {
          "base_uri": "https://localhost:8080/",
          "height": 423
        },
        "id": "QIUsC35Gryed",
        "outputId": "8b626070-282f-44c3-9c62-cfaef796f732"
      },
      "execution_count": 56,
      "outputs": [
        {
          "output_type": "execute_result",
          "data": {
            "text/plain": [
              "    zip_code                                           geometry  \\\n",
              "0      30309  POLYGON ((-84.40785 33.79728, -84.40784 33.798...   \n",
              "1      30518  POLYGON ((-84.10169 34.11238, -84.10159 34.113...   \n",
              "2      30334  POLYGON ((-84.39091 33.74693, -84.39021 33.747...   \n",
              "3      30331  POLYGON ((-84.66326 33.65653, -84.66311 33.656...   \n",
              "4      30319  POLYGON ((-84.35928 33.88596, -84.35921 33.886...   \n",
              "..       ...                                                ...   \n",
              "167    85122  POLYGON ((-111.82675 32.95262, -111.82668 32.9...   \n",
              "168    85388  POLYGON ((-112.47009 33.58361, -112.47008 33.5...   \n",
              "169    85173  POLYGON ((-111.30067 33.25802, -111.29735 33.2...   \n",
              "170    85375  POLYGON ((-112.40401 33.68047, -112.40385 33.6...   \n",
              "171    85037  POLYGON ((-112.31279 33.49323, -112.31274 33.4...   \n",
              "\n",
              "     avg_nearby_groche_counts num_food_deserts  \n",
              "0                         6.0                0  \n",
              "1                         0.0                1  \n",
              "2                        23.0                0  \n",
              "3                         0.0                1  \n",
              "4                         1.0                0  \n",
              "..                        ...              ...  \n",
              "167                       0.0                1  \n",
              "168                       0.0                1  \n",
              "169                       0.0                1  \n",
              "170                       0.0                1  \n",
              "171                       0.0                1  \n",
              "\n",
              "[1147 rows x 4 columns]"
            ],
            "text/html": [
              "\n",
              "  <div id=\"df-3030ac25-8cb9-4a86-9ac1-0cd882af1504\">\n",
              "    <div class=\"colab-df-container\">\n",
              "      <div>\n",
              "<style scoped>\n",
              "    .dataframe tbody tr th:only-of-type {\n",
              "        vertical-align: middle;\n",
              "    }\n",
              "\n",
              "    .dataframe tbody tr th {\n",
              "        vertical-align: top;\n",
              "    }\n",
              "\n",
              "    .dataframe thead th {\n",
              "        text-align: right;\n",
              "    }\n",
              "</style>\n",
              "<table border=\"1\" class=\"dataframe\">\n",
              "  <thead>\n",
              "    <tr style=\"text-align: right;\">\n",
              "      <th></th>\n",
              "      <th>zip_code</th>\n",
              "      <th>geometry</th>\n",
              "      <th>avg_nearby_groche_counts</th>\n",
              "      <th>num_food_deserts</th>\n",
              "    </tr>\n",
              "  </thead>\n",
              "  <tbody>\n",
              "    <tr>\n",
              "      <th>0</th>\n",
              "      <td>30309</td>\n",
              "      <td>POLYGON ((-84.40785 33.79728, -84.40784 33.798...</td>\n",
              "      <td>6.0</td>\n",
              "      <td>0</td>\n",
              "    </tr>\n",
              "    <tr>\n",
              "      <th>1</th>\n",
              "      <td>30518</td>\n",
              "      <td>POLYGON ((-84.10169 34.11238, -84.10159 34.113...</td>\n",
              "      <td>0.0</td>\n",
              "      <td>1</td>\n",
              "    </tr>\n",
              "    <tr>\n",
              "      <th>2</th>\n",
              "      <td>30334</td>\n",
              "      <td>POLYGON ((-84.39091 33.74693, -84.39021 33.747...</td>\n",
              "      <td>23.0</td>\n",
              "      <td>0</td>\n",
              "    </tr>\n",
              "    <tr>\n",
              "      <th>3</th>\n",
              "      <td>30331</td>\n",
              "      <td>POLYGON ((-84.66326 33.65653, -84.66311 33.656...</td>\n",
              "      <td>0.0</td>\n",
              "      <td>1</td>\n",
              "    </tr>\n",
              "    <tr>\n",
              "      <th>4</th>\n",
              "      <td>30319</td>\n",
              "      <td>POLYGON ((-84.35928 33.88596, -84.35921 33.886...</td>\n",
              "      <td>1.0</td>\n",
              "      <td>0</td>\n",
              "    </tr>\n",
              "    <tr>\n",
              "      <th>...</th>\n",
              "      <td>...</td>\n",
              "      <td>...</td>\n",
              "      <td>...</td>\n",
              "      <td>...</td>\n",
              "    </tr>\n",
              "    <tr>\n",
              "      <th>167</th>\n",
              "      <td>85122</td>\n",
              "      <td>POLYGON ((-111.82675 32.95262, -111.82668 32.9...</td>\n",
              "      <td>0.0</td>\n",
              "      <td>1</td>\n",
              "    </tr>\n",
              "    <tr>\n",
              "      <th>168</th>\n",
              "      <td>85388</td>\n",
              "      <td>POLYGON ((-112.47009 33.58361, -112.47008 33.5...</td>\n",
              "      <td>0.0</td>\n",
              "      <td>1</td>\n",
              "    </tr>\n",
              "    <tr>\n",
              "      <th>169</th>\n",
              "      <td>85173</td>\n",
              "      <td>POLYGON ((-111.30067 33.25802, -111.29735 33.2...</td>\n",
              "      <td>0.0</td>\n",
              "      <td>1</td>\n",
              "    </tr>\n",
              "    <tr>\n",
              "      <th>170</th>\n",
              "      <td>85375</td>\n",
              "      <td>POLYGON ((-112.40401 33.68047, -112.40385 33.6...</td>\n",
              "      <td>0.0</td>\n",
              "      <td>1</td>\n",
              "    </tr>\n",
              "    <tr>\n",
              "      <th>171</th>\n",
              "      <td>85037</td>\n",
              "      <td>POLYGON ((-112.31279 33.49323, -112.31274 33.4...</td>\n",
              "      <td>0.0</td>\n",
              "      <td>1</td>\n",
              "    </tr>\n",
              "  </tbody>\n",
              "</table>\n",
              "<p>1147 rows × 4 columns</p>\n",
              "</div>\n",
              "      <button class=\"colab-df-convert\" onclick=\"convertToInteractive('df-3030ac25-8cb9-4a86-9ac1-0cd882af1504')\"\n",
              "              title=\"Convert this dataframe to an interactive table.\"\n",
              "              style=\"display:none;\">\n",
              "        \n",
              "  <svg xmlns=\"http://www.w3.org/2000/svg\" height=\"24px\"viewBox=\"0 0 24 24\"\n",
              "       width=\"24px\">\n",
              "    <path d=\"M0 0h24v24H0V0z\" fill=\"none\"/>\n",
              "    <path d=\"M18.56 5.44l.94 2.06.94-2.06 2.06-.94-2.06-.94-.94-2.06-.94 2.06-2.06.94zm-11 1L8.5 8.5l.94-2.06 2.06-.94-2.06-.94L8.5 2.5l-.94 2.06-2.06.94zm10 10l.94 2.06.94-2.06 2.06-.94-2.06-.94-.94-2.06-.94 2.06-2.06.94z\"/><path d=\"M17.41 7.96l-1.37-1.37c-.4-.4-.92-.59-1.43-.59-.52 0-1.04.2-1.43.59L10.3 9.45l-7.72 7.72c-.78.78-.78 2.05 0 2.83L4 21.41c.39.39.9.59 1.41.59.51 0 1.02-.2 1.41-.59l7.78-7.78 2.81-2.81c.8-.78.8-2.07 0-2.86zM5.41 20L4 18.59l7.72-7.72 1.47 1.35L5.41 20z\"/>\n",
              "  </svg>\n",
              "      </button>\n",
              "      \n",
              "  <style>\n",
              "    .colab-df-container {\n",
              "      display:flex;\n",
              "      flex-wrap:wrap;\n",
              "      gap: 12px;\n",
              "    }\n",
              "\n",
              "    .colab-df-convert {\n",
              "      background-color: #E8F0FE;\n",
              "      border: none;\n",
              "      border-radius: 50%;\n",
              "      cursor: pointer;\n",
              "      display: none;\n",
              "      fill: #1967D2;\n",
              "      height: 32px;\n",
              "      padding: 0 0 0 0;\n",
              "      width: 32px;\n",
              "    }\n",
              "\n",
              "    .colab-df-convert:hover {\n",
              "      background-color: #E2EBFA;\n",
              "      box-shadow: 0px 1px 2px rgba(60, 64, 67, 0.3), 0px 1px 3px 1px rgba(60, 64, 67, 0.15);\n",
              "      fill: #174EA6;\n",
              "    }\n",
              "\n",
              "    [theme=dark] .colab-df-convert {\n",
              "      background-color: #3B4455;\n",
              "      fill: #D2E3FC;\n",
              "    }\n",
              "\n",
              "    [theme=dark] .colab-df-convert:hover {\n",
              "      background-color: #434B5C;\n",
              "      box-shadow: 0px 1px 3px 1px rgba(0, 0, 0, 0.15);\n",
              "      filter: drop-shadow(0px 1px 2px rgba(0, 0, 0, 0.3));\n",
              "      fill: #FFFFFF;\n",
              "    }\n",
              "  </style>\n",
              "\n",
              "      <script>\n",
              "        const buttonEl =\n",
              "          document.querySelector('#df-3030ac25-8cb9-4a86-9ac1-0cd882af1504 button.colab-df-convert');\n",
              "        buttonEl.style.display =\n",
              "          google.colab.kernel.accessAllowed ? 'block' : 'none';\n",
              "\n",
              "        async function convertToInteractive(key) {\n",
              "          const element = document.querySelector('#df-3030ac25-8cb9-4a86-9ac1-0cd882af1504');\n",
              "          const dataTable =\n",
              "            await google.colab.kernel.invokeFunction('convertToInteractive',\n",
              "                                                     [key], {});\n",
              "          if (!dataTable) return;\n",
              "\n",
              "          const docLinkHtml = 'Like what you see? Visit the ' +\n",
              "            '<a target=\"_blank\" href=https://colab.research.google.com/notebooks/data_table.ipynb>data table notebook</a>'\n",
              "            + ' to learn more about interactive tables.';\n",
              "          element.innerHTML = '';\n",
              "          dataTable['output_type'] = 'display_data';\n",
              "          await google.colab.output.renderOutput(dataTable, element);\n",
              "          const docLink = document.createElement('div');\n",
              "          docLink.innerHTML = docLinkHtml;\n",
              "          element.appendChild(docLink);\n",
              "        }\n",
              "      </script>\n",
              "    </div>\n",
              "  </div>\n",
              "  "
            ]
          },
          "metadata": {},
          "execution_count": 56
        }
      ]
    },
    {
      "cell_type": "markdown",
      "source": [
        "## Rural"
      ],
      "metadata": {
        "id": "Q3ESLW716A-e"
      }
    },
    {
      "cell_type": "code",
      "source": [
        "\n"
      ],
      "metadata": {
        "id": "4U7NmwJ86DOe"
      },
      "execution_count": 57,
      "outputs": []
    },
    {
      "cell_type": "code",
      "source": [
        "# Make circle for Rural at 10 miles\n",
        "def make_circle(lat, lon, miles=10): #1-mile in urban areas and 10-mile in rural\n",
        "  km = miles * 1.60934\n",
        "  proj_wgs84 = pyproj.CRS(\"WGS84\")\n",
        "  # Azimuthal equidistant projection\n",
        "  aeqd_proj = '+proj=aeqd +lat_0={lat} +lon_0={lon} +x_0=0 +y_0=0'\n",
        "  project = partial(\n",
        "    pyproj.transformer.transform,\n",
        "    pyproj.Proj(aeqd_proj.format(lat=lat, lon=lon)),\n",
        "    proj_wgs84)\n",
        "  buff = Point(0, 0).buffer(km * 1000)\n",
        "  return Polygon(transform(project, buff).exterior.coords[:])\n",
        "\n",
        "# rural is 10 miles\n",
        "for metro in metros:\n",
        "  metro_zip = pd.read_csv('/content/drive/MyDrive/DATA 606 Capstone Project/Datasets and Information/CSVs/'+metro+'/'+metro+'_county_zips.csv')\n",
        "  markets = df[df['Metro']==metro].reset_index(drop=True)\n",
        "  print(len(metro))\n",
        "\n",
        "\n",
        "  for i in range(len(markets)):\n",
        "    lat = markets.at[i, 'LATITUDE']\n",
        "    lon = markets.at[i, 'LONGITUDE']\n",
        "    markets.at[i, 'LOCATION'] = Point(lat, lon)\n",
        "\n",
        "  metro_zip_list = metro_zip['zip'].to_list()\n",
        "  metro_zip_df = zip_df[zip_df['zip_code'].isin(metro_zip_list)]\n",
        "\n",
        "  metro_zip_df['test_points'] = metro_zip_df.geometry.apply(gen_points_inside_polygon)\n",
        "\n",
        "  metro_zip_df['num_points'] = metro_zip_df['test_points'].apply(len)\n",
        "\n",
        "  metro_search = desert_search(metro_zip_df, markets)\n",
        "  zip_code_groche_df, all_deserts = unpack_desert_search(metro_search)\n",
        "\n",
        "  #plotting tasks\n",
        "  polygons_df = metro_zip_df[['zip_code', 'geometry']]\n",
        "  #convert list from grid search to df\n",
        "  geo = {'geometry': all_deserts}\n",
        "  deserts_gdf = gpd.GeoDataFrame(geo)\n",
        "\n",
        "  groche_density_df = polygons_df.merge(zip_code_groche_df, left_on='zip_code',right_on='zip_code',how='outer')\n",
        "  groche_density_df.to_csv('/content/drive/MyDrive/DATA 606 Capstone Project/Datasets and Information/CSVs/Groche Density/{}_mile_groche_density.csv'.format(metro))\n",
        "  \"\"\"\n",
        "  ax = polygons_df.plot(figsize=(20, 20), color='#00cc66', edgecolor='white')\n",
        "  deserts_gdf.plot(color='#00004d', alpha=0.05, ax=ax)\n",
        "  ax.set_facecolor('#f0f0f5')\n",
        "  plt.grid(linewidth=0.2)\n",
        "  plt.title('Food Deserts of '+metro+' Metro Area', fontsize=20)\n",
        "  #plt.figtext(.5,.9,'Food Deserts of Los Angeles County', fontsize=20, ha='center')\n",
        "  plt.xlabel('Longitude', fontsize=15)\n",
        "  plt.ylabel('Latitude', fontsize=15)\n",
        "  \"\"\"\n",
        "\n",
        "  # GRAB THESE BOTTOM LINES FOR GRAPHING\n",
        "  fig, ax = plt.subplots(figsize = (25,25))\n",
        "  cmap = 'Spectral_r'\n",
        "  #Color bar is created below\n",
        "  sm = plt.cm.ScalarMappable(cmap=cmap, norm=plt.Normalize(vmin=0, vmax=1))\n",
        "  # Empty array for the data range\n",
        "  sm._A = []\n",
        "  # Add the colorbar to the figure\n",
        "  cbar = fig.colorbar(sm, fraction=.04)\n",
        "\n",
        "  ax.set_facecolor('#f0f0f5')\n",
        "  plt.title('Grocery Store Density (Per 10-mile Radius) for the '+metro+' Metro Area [Rural]',fontsize=20)\n",
        "  plt.xlabel('Longitude', fontsize=15)\n",
        "  plt.ylabel('Latitude',fontsize=15)\n",
        "  plt.grid(linewidth=0.2)\n",
        "  #ax.set_ylim([38,40])\n",
        "  #ax.set_xlim([-79,-76])\n",
        "  ax_zip = groche_density_df.plot(column='avg_nearby_groche_counts', ax=ax, cmap=cmap, vmin=0, vmax =20)\n",
        "  fig.savefig('/content/drive/MyDrive/DATA 606 Capstone Project/Datasets and Information/Graphs/{}_urban_desert.png'.format(metro))"
      ],
      "metadata": {
        "colab": {
          "base_uri": "https://localhost:8080/"
        },
        "id": "yu877jY5rE0b",
        "outputId": "8dadcc75-1e29-4cd8-8d78-212f8df7afa4"
      },
      "execution_count": null,
      "outputs": [
        {
          "output_type": "stream",
          "name": "stdout",
          "text": [
            "7\n"
          ]
        },
        {
          "output_type": "stream",
          "name": "stderr",
          "text": [
            "/usr/local/lib/python3.7/dist-packages/geopandas/geodataframe.py:1351: SettingWithCopyWarning: \n",
            "A value is trying to be set on a copy of a slice from a DataFrame.\n",
            "Try using .loc[row_indexer,col_indexer] = value instead\n",
            "\n",
            "See the caveats in the documentation: https://pandas.pydata.org/pandas-docs/stable/user_guide/indexing.html#returning-a-view-versus-a-copy\n",
            "  super().__setitem__(key, value)\n"
          ]
        }
      ]
    },
    {
      "cell_type": "markdown",
      "source": [
        "## Urban"
      ],
      "metadata": {
        "id": "7RuH58zp57cH"
      }
    },
    {
      "cell_type": "code",
      "source": [
        "# Make circle for Urban at .5 miles\n",
        "def make_circle(lat, lon, miles=.5): #1-mile in urban areas and 10-mile in rural\n",
        "  km = miles * 1.60934\n",
        "  proj_wgs84 = pyproj.CRS(\"WGS84\")\n",
        "  # Azimuthal equidistant projection\n",
        "  aeqd_proj = '+proj=aeqd +lat_0={lat} +lon_0={lon} +x_0=0 +y_0=0'\n",
        "  project = partial(\n",
        "    pyproj.transformer.transform,\n",
        "    pyproj.Proj(aeqd_proj.format(lat=lat, lon=lon)),\n",
        "    proj_wgs84)\n",
        "  buff = Point(0, 0).buffer(km * 1000)\n",
        "  return Polygon(transform(project, buff).exterior.coords[:])\n",
        "\n",
        "\n",
        "# For Urban  areas miles = .5\n",
        "for metro in metros:\n",
        "  metro_zip = pd.read_csv('/content/drive/MyDrive/DATA 606 Capstone Project/Datasets and Information/CSVs/'+metro+'/'+metro+'_county_zips.csv')\n",
        "  markets = df[df['Metro']==metro].reset_index(drop=True)\n",
        "  print(len(metro))\n",
        "\n",
        "\n",
        "  for i in range(len(markets)):\n",
        "    lat = markets.at[i, 'LATITUDE']\n",
        "    lon = markets.at[i, 'LONGITUDE']\n",
        "    markets.at[i, 'LOCATION'] = Point(lat, lon)\n",
        "\n",
        "  metro_zip_list = metro_zip['zip'].to_list()\n",
        "  metro_zip_df = zip_df[zip_df['zip_code'].isin(metro_zip_list)]\n",
        "\n",
        "  metro_zip_df['test_points'] = metro_zip_df.geometry.apply(gen_points_inside_polygon)\n",
        "\n",
        "  metro_zip_df['num_points'] = metro_zip_df['test_points'].apply(len)\n",
        "\n",
        "  metro_search = desert_search(metro_zip_df, markets)\n",
        "  zip_code_groche_df, all_deserts = unpack_desert_search(metro_search)\n",
        "\n",
        "  #plotting tasks\n",
        "  polygons_df = metro_zip_df[['zip_code', 'geometry']]\n",
        "  #convert list from grid search to df\n",
        "  geo = {'geometry': all_deserts}\n",
        "  deserts_gdf = gpd.GeoDataFrame(geo)\n",
        "\n",
        "  groche_density_df = polygons_df.merge(zip_code_groche_df, left_on='zip_code',right_on='zip_code',how='outer')\n",
        "  groche_density_df.to_csv('/content/drive/MyDrive/DATA 606 Capstone Project/Datasets and Information/CSVs/Groche Density/{}_urban_groche_density.csv'.format(metro))\n",
        "\n",
        "\n",
        "  # GRAB THESE BOTTOM LINES FOR GRAPHING\n",
        "  fig, ax = plt.subplots(figsize = (25,25))\n",
        "  cmap = 'Spectral_r'\n",
        "  #Color bar is created below\n",
        "  sm = plt.cm.ScalarMappable(cmap=cmap, norm=plt.Normalize(vmin=0, vmax=1))\n",
        "  # Empty array for the data range\n",
        "  sm._A = []\n",
        "  # Add the colorbar to the figure\n",
        "  cbar = fig.colorbar(sm, fraction=.04)\n",
        "\n",
        "  ax.set_facecolor('#f0f0f5')\n",
        "  plt.title('Grocery Store Density (Per 0.5-mile Radius) for the '+metro+' Metro Area [Urban]',fontsize=20)\n",
        "  plt.xlabel('Longitude', fontsize=15)\n",
        "  plt.ylabel('Latitude',fontsize=15)\n",
        "  plt.grid(linewidth=0.2)\n",
        "  #ax.set_ylim([38,40])\n",
        "  #ax.set_xlim([-79,-76])\n",
        "  ax_zip = groche_density_df.plot(column='avg_nearby_groche_counts', ax=ax, cmap=cmap, vmin=0, vmax =10)\n",
        "  fig.savefig('/content/drive/MyDrive/DATA 606 Capstone Project/Datasets and Information/Graphs/{}_urban_desert.png'.format(metro))"
      ],
      "metadata": {
        "id": "7OWJl0Om5n_h"
      },
      "execution_count": null,
      "outputs": []
    }
  ]
}